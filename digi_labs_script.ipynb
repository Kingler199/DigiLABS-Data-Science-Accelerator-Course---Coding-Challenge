{
 "cells": [
  {
   "cell_type": "code",
   "execution_count": 154,
   "metadata": {},
   "outputs": [],
   "source": [
    "import pandas as pd\n",
    "import re \n",
    "import ipywidgets as widgets\n",
    "from ipywidgets import interact\n",
    "\n"
   ]
  },
  {
   "cell_type": "code",
   "execution_count": 155,
   "metadata": {},
   "outputs": [],
   "source": [
    "country_population = pd.DataFrame(pd.read_excel('population_data.xlsx'))\n",
    "country_population_copy = country_population\n"
   ]
  },
  {
   "cell_type": "code",
   "execution_count": 156,
   "metadata": {},
   "outputs": [],
   "source": [
    "soc_med_geographic = pd.DataFrame(pd.read_excel('SocMed_Geographic.xlsx'))\n"
   ]
  },
  {
   "cell_type": "code",
   "execution_count": 157,
   "metadata": {},
   "outputs": [],
   "source": [
    "#cleaning data\n",
    "soc_med_geographic.columns = ['social_media_platform', \n",
    "                             'United States','Indonesia','Singapore','China','India','Vietnam','Philippines','Bangladesh']\n",
    "soc_med_geographic.drop(soc_med_geographic.index[0], inplace=True)"
   ]
  },
  {
   "cell_type": "code",
   "execution_count": 158,
   "metadata": {},
   "outputs": [],
   "source": [
    "#Long Data\n",
    "melted_soc_med = pd.melt(soc_med_geographic, id_vars='social_media_platform', value_name='number_of_users', var_name= 'countries')\n",
    "melted_soc_med.fillna(0, inplace=True)"
   ]
  },
  {
   "cell_type": "code",
   "execution_count": 159,
   "metadata": {},
   "outputs": [],
   "source": [
    "#cleaning numbers\n",
    "melted_soc_med['number_of_users'] = melted_soc_med['number_of_users'].apply(lambda x: str(x))\n",
    "melted_soc_med['number_of_users'] = melted_soc_med['number_of_users'].apply(lambda x: x.replace(',','').replace(' ','').replace('.','').replace('\\u202c',''))\n",
    "melted_soc_med['number_of_users'] = melted_soc_med['number_of_users'].apply(lambda x: re.sub(\"[\\(\\[].*?[\\)\\]]\", \"\", x))\n",
    "melted_soc_med['number_of_users'] = melted_soc_med['number_of_users'].apply(lambda x: int(x))\n",
    "\n",
    "\n"
   ]
  },
  {
   "cell_type": "code",
   "execution_count": 160,
   "metadata": {},
   "outputs": [],
   "source": [
    "grouped_soc = melted_soc_med.groupby(['social_media_platform','countries'])['number_of_users'].sum().reset_index()"
   ]
  },
  {
   "cell_type": "code",
   "execution_count": 161,
   "metadata": {},
   "outputs": [],
   "source": [
    "def view_one():\n",
    "    social_media_list = ['All']+sorted(grouped_soc['social_media_platform'].unique().tolist())\n",
    "    def view(social_media_platform=''):\n",
    "        if social_media_platform == 'All': \n",
    "            pd.set_option('display.max_rows', 80)\n",
    "            return grouped_soc.sort_values(by='number_of_users', ascending=False)\n",
    "        return grouped_soc[grouped_soc['social_media_platform']==social_media_platform].sort_values(by='number_of_users',ascending=False)\n",
    "\n",
    "    soc_med_w = widgets.Select(options=social_media_list)\n",
    "    interact(view,social_media_platform=soc_med_w)\n"
   ]
  },
  {
   "cell_type": "code",
   "execution_count": 162,
   "metadata": {},
   "outputs": [],
   "source": [
    "def view_two():\n",
    "    countries_list = ['All']+sorted(grouped_soc['countries'].unique().tolist())\n",
    "    def country_view(countries=''):\n",
    "        if countries == 'All':\n",
    "            pd.set_option('display.max_rows', 80)\n",
    "            return grouped_soc.sort_values(by='number_of_users', ascending=False)\n",
    "        return grouped_soc[grouped_soc['countries']==countries].sort_values(by='number_of_users',ascending=False)\n",
    "\n",
    "\n",
    "    country_w = widgets.Select(options=countries_list)\n",
    "    interact(country_view, countries=country_w)\n",
    "        "
   ]
  },
  {
   "cell_type": "code",
   "execution_count": 163,
   "metadata": {},
   "outputs": [],
   "source": [
    "#creating df with population and percentage\n",
    "grouped_soc_copy = grouped_soc.copy()\n",
    "grouped_soc_with_pop = grouped_soc_copy.merge(country_population, on='countries', how='left')\n",
    "grouped_soc_with_pop.drop('#', axis=1, inplace=True)\n",
    "grouped_soc_with_pop['percentage_of_users'] = (grouped_soc_with_pop['number_of_users']/grouped_soc_with_pop['Population']) * 100\n"
   ]
  },
  {
   "cell_type": "code",
   "execution_count": 164,
   "metadata": {},
   "outputs": [],
   "source": [
    "def view_three():\n",
    "    social_media_list = ['All']+sorted(grouped_soc_with_pop['social_media_platform'].unique().tolist())\n",
    "    def view(social_media_platform=''):\n",
    "        if social_media_platform == 'All': \n",
    "            pd.set_option('display.max_rows', 80)\n",
    "            return grouped_soc_with_pop.sort_values(by='percentage_of_users', ascending=False)\n",
    "        return grouped_soc_with_pop[grouped_soc_with_pop['social_media_platform']==social_media_platform].sort_values(by='percentage_of_users',ascending=False)\n",
    "\n",
    "    soc_med_w = widgets.Select(options=social_media_list)\n",
    "    interact(view,social_media_platform=soc_med_w)\n"
   ]
  },
  {
   "cell_type": "markdown",
   "metadata": {},
   "source": [
    "#1: When I choose a social media network, I am able to get a view the number of users in each\n",
    "country."
   ]
  },
  {
   "cell_type": "code",
   "execution_count": 165,
   "metadata": {},
   "outputs": [
    {
     "data": {
      "application/vnd.jupyter.widget-view+json": {
       "model_id": "a42a51ce06aa420daf92d70544bea077",
       "version_major": 2,
       "version_minor": 0
      },
      "text/plain": [
       "interactive(children=(Select(description='social_media_platform', options=('All', 'Bilibili', 'Facebook', 'Ins…"
      ]
     },
     "metadata": {},
     "output_type": "display_data"
    }
   ],
   "source": [
    "view_one()"
   ]
  },
  {
   "cell_type": "markdown",
   "metadata": {},
   "source": [
    "#2: When I choose a country, I am able to see all the relevant social networks its people use ranked\n",
    "in descending order."
   ]
  },
  {
   "cell_type": "code",
   "execution_count": 166,
   "metadata": {},
   "outputs": [
    {
     "data": {
      "application/vnd.jupyter.widget-view+json": {
       "model_id": "6b411cba656a4e8ea0eef69765b33c6f",
       "version_major": 2,
       "version_minor": 0
      },
      "text/plain": [
       "interactive(children=(Select(description='countries', options=('All', 'Bangladesh', 'China', 'India', 'Indones…"
      ]
     },
     "metadata": {},
     "output_type": "display_data"
    }
   ],
   "source": [
    "view_two()"
   ]
  },
  {
   "cell_type": "markdown",
   "metadata": {},
   "source": [
    "#3: I can view a comparison of the percentage of users based on the population for each social\n",
    "media network by the population of the country."
   ]
  },
  {
   "cell_type": "code",
   "execution_count": 167,
   "metadata": {},
   "outputs": [
    {
     "data": {
      "application/vnd.jupyter.widget-view+json": {
       "model_id": "bf2ccf2cb666461fb4b54a8c942f21ed",
       "version_major": 2,
       "version_minor": 0
      },
      "text/plain": [
       "interactive(children=(Select(description='social_media_platform', options=('All', 'Bilibili', 'Facebook', 'Ins…"
      ]
     },
     "metadata": {},
     "output_type": "display_data"
    }
   ],
   "source": [
    "view_three()"
   ]
  }
 ],
 "metadata": {
  "kernelspec": {
   "display_name": "Python 3.10.5 64-bit (windows store)",
   "language": "python",
   "name": "python3"
  },
  "language_info": {
   "codemirror_mode": {
    "name": "ipython",
    "version": 3
   },
   "file_extension": ".py",
   "mimetype": "text/x-python",
   "name": "python",
   "nbconvert_exporter": "python",
   "pygments_lexer": "ipython3",
   "version": "3.10.5"
  },
  "orig_nbformat": 4,
  "vscode": {
   "interpreter": {
    "hash": "9deea79bfd8769c20cdb41e577c31349975f53057f7c4a88718c49dab3f025eb"
   }
  }
 },
 "nbformat": 4,
 "nbformat_minor": 2
}
